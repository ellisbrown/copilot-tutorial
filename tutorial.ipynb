{
 "cells": [
  {
   "cell_type": "markdown",
   "metadata": {},
   "source": [
    "# VSCode, Copilot, Jupyter, Git, Mamba\n",
    "### NYU[x] Research Tooling Meeting\n",
    "\n",
    "Ellis Brown\n",
    "\n",
    "10/09/2023\n",
    "\n",
    "\n",
    "\n",
    "<br><br>"
   ]
  },
  {
   "cell_type": "markdown",
   "metadata": {},
   "source": [
    "## 0. Why this matters?\n",
    "---\n",
    "Good tooling:\n",
    "1. Accelerates experimentation\n",
    "    - make more progress, faster\n",
    "    - more robust code\n",
    "2. Enables reproducibility\n",
    "3. Facilitates collaboration\n",
    "\n",
    "<br><br>"
   ]
  },
  {
   "cell_type": "markdown",
   "metadata": {},
   "source": [
    "## 1. VSCode\n",
    "---\n",
    "\n",
    "Why I like it:\n",
    "- Lightweight and fast\n",
    "- Extensions / Plugins -> scales to power-use\n",
    "  - Jupyter\n",
    "  - Copilot\n",
    "  - Git\n",
    "  - Remote SSH\n",
    "- Debugging\n",
    "- Wide adoption / community / support\n",
    "\n",
    "<br><br>"
   ]
  },
  {
   "cell_type": "markdown",
   "metadata": {},
   "source": [
    "## 2. Jupyter\n",
    "---\n",
    "- interactive notebook + code execution\n",
    "- great for experimentation, data exploration, and visualization\n",
    "- lightweight way to test/develop your library code, interactively\n",
    "\n",
    "<br>\n",
    "\n",
    "### Jupyter + VSCode\n",
    "- all of the features of the VSCode editor, ***native*** to the notebook experience 🔥\n",
    "    - Copilot!\n",
    "- compute clusters / HPC / Slurm:\n",
    "    - can start a Jupyter server (e.g. in `tmux` session) <br>\n",
    "      & connect to it\n",
    "\n",
    "<br>\n",
    "\n",
    "### Tip: extensions / \"magic\"\n",
    "- autoreload: reloads imported modules before executing code\n",
    "    - my 1st cell in ~ every notebook:<br>\n",
    "        ```python\n",
    "        %load_ext autoreload\n",
    "        %autoreload 2\n",
    "        ```\n",
    "- VSCode Jupyter plots matplotlib inline automatically :)\n",
    "\n",
    "<br><br>"
   ]
  },
  {
   "cell_type": "markdown",
   "metadata": {},
   "source": [
    "## 3. GitHub Copilot\n",
    "---\n",
    "- GPT-3 powered Code Autocompletion (on steroids)\n",
    "- *potentially best application of current generations of LLMs?*\n",
    "\n",
    "Oct 2021 beta — changed the way I approach coding\n",
    "\n",
    "<br>\n",
    "\n",
    "### 3.1 Code As \"Context\"\n",
    "ChatGPT as a lens to understand Copilot\n",
    "- context = prompt + history (in ChatGPT parlance)\n",
    "- the better the context, the better the suggestions\n",
    "\n",
    "***Copilot Context:*** code + comments\n",
    "1. in ***current file***\n",
    "    - especially current/previous line\n",
    "    - \"Fill-In-the-Middle\" paradigm\n",
    "        - code before & after the cursor\n",
    "2. from ***neighboring tabs***\n",
    "    - Copilot attends significantly more to code if it is open in a tab\n",
    "3. from ***other files in the repo***, (but much less likely to be added to the context)\n",
    "    - other files in the repo are scanned too, but much less likely to be added to the context\n",
    "    \n",
    "<br>\n",
    "\n",
    "https://github.blog/2023-05-17-how-github-copilot-is-getting-better-at-understanding-your-code/\n",
    "\n",
    "<br>"
   ]
  },
  {
   "cell_type": "markdown",
   "metadata": {},
   "source": [
    "### 3.2 Examples / Use Cases\n",
    "\n",
    "Shortcuts:\n",
    "1. `tab` to accept suggestion\n",
    "2. `opt+[`, `opt+]` to cycle through suggestions\n"
   ]
  },
  {
   "cell_type": "markdown",
   "metadata": {},
   "source": [
    "#### 3.2.1 generic code completion"
   ]
  },
  {
   "cell_type": "code",
   "execution_count": 9,
   "metadata": {},
   "outputs": [],
   "source": [
    "def sqrt(x):\n"
   ]
  },
  {
   "cell_type": "markdown",
   "metadata": {},
   "source": [
    "#### 3.2.2 documentation\n",
    "> add documentation to the `sqrt` function\n"
   ]
  },
  {
   "cell_type": "code",
   "execution_count": null,
   "metadata": {},
   "outputs": [],
   "source": []
  },
  {
   "cell_type": "markdown",
   "metadata": {},
   "source": [
    "#### 3.2.3 test generation"
   ]
  },
  {
   "cell_type": "code",
   "execution_count": null,
   "metadata": {},
   "outputs": [],
   "source": [
    "# create a test for the sqrt function\n",
    "def test_sqrt():\n",
    "    "
   ]
  },
  {
   "cell_type": "markdown",
   "metadata": {},
   "source": [
    "#### 3.2.4 inline Q/A with the LLM\n",
    "> e.g., look up the args for the autoreload magic function"
   ]
  },
  {
   "cell_type": "code",
   "execution_count": null,
   "metadata": {},
   "outputs": [],
   "source": [
    "%load_ext autoreload\n",
    "%autoreload 2 # Reload all local modules every time before executing the Python code typed.\n",
    "# what does the 2 parameter mean?\n",
    "# ans: it means reload all modules (except those excluded by %aimport) every time before executing the Python code typed.\n",
    "\n",
    "# list options:\n",
    "# 0: disable automatic reloading\n",
    "# 1: reload all modules imported with %aimport every time before executing the Python code typed.\n",
    "# 2: reload all modules (except those excluded by %aimport) every time before executing the Python code typed.\n",
    "# 3: reload all modules except those excluded by %aimport, and also modules that are excluded by default (e.g. sys and types)"
   ]
  },
  {
   "cell_type": "markdown",
   "metadata": {},
   "source": [
    "#### 3.2.5 data manipulation / visualization\n",
    "> e.g., plot the distribution of the `iris` dataset"
   ]
  },
  {
   "cell_type": "code",
   "execution_count": 4,
   "metadata": {},
   "outputs": [
    {
     "data": {
      "text/plain": [
       "<Figure size 800x600 with 0 Axes>"
      ]
     },
     "execution_count": 4,
     "metadata": {},
     "output_type": "execute_result"
    },
    {
     "data": {
      "image/png": "[encoded data removed]",
      "text/plain": [
       "<Figure size 640x480 with 1 Axes>"
      ]
     },
     "metadata": {},
     "output_type": "display_data"
    },
    {
     "data": {
      "text/plain": [
       "<Figure size 800x600 with 0 Axes>"
      ]
     },
     "metadata": {},
     "output_type": "display_data"
    }
   ],
   "source": [
    "\"\"\"\n",
    "Load the iris dataset, and plot the first two features in a scatter plot.\n",
    "\"\"\"\n",
    "from sklearn.datasets import load_iris\n",
    "import matplotlib.pyplot as plt\n",
    "\n",
    "iris = load_iris()\n",
    "X = iris.data\n",
    "y = iris.target\n",
    "\n",
    "plt.scatter(X[:, 0], X[:, 1], c=y, cmap=plt.cm.Paired)\n",
    "plt.xlabel(iris.feature_names[0])\n",
    "plt.ylabel(iris.feature_names[1])\n",
    "\n",
    "# add a title to the plot\n",
    "plt.title('Iris Dataset')\n",
    "\n",
    "# make the plot smaller\n",
    "plt.figure(figsize=(8, 6))"
   ]
  },
  {
   "cell_type": "markdown",
   "metadata": {},
   "source": [
    "#### 3.2.6 complex APIs\n",
    "> e.g., regex"
   ]
  },
  {
   "cell_type": "code",
   "execution_count": 5,
   "metadata": {},
   "outputs": [
    {
     "name": "stdout",
     "output_type": "stream",
     "text": [
      "['(I want to match this)']\n",
      "['(match)']\n",
      "['(match)', '(this)', '(this)']\n"
     ]
    }
   ],
   "source": [
    "# write a regex to match all words surrounded by parentheses\n",
    "pattern1 = r\"\\(.*?\\)\"\n",
    "\n",
    "import re\n",
    "\n",
    "# test code\n",
    "print(re.findall(pattern1, '(I want to match this)'))\n",
    "print(re.findall(pattern1, 'I want to (match) this'))\n",
    "print(re.findall(pattern1, 'I want to (match) this and (this) and (this)'))"
   ]
  },
  {
   "cell_type": "code",
   "execution_count": null,
   "metadata": {},
   "outputs": [],
   "source": [
    "\"\"\"Hoare's Partitioning Scheme (Quicksort) in C\n",
    "void partition(int array[], int low, int high) {\n",
    "  // Choose the pivot element.\n",
    "  int pivot = array[high];\n",
    "\n",
    "  // Initialize the two subarrays.\n",
    "  int i = low - 1;\n",
    "  int j = high;\n",
    "\n",
    "  // Iterate through the array, swapping elements as needed.\n",
    "  while (i < j) {\n",
    "    while (array[++i] <= pivot) {\n",
    "    }\n",
    "    while (array[--j] > pivot) {\n",
    "    }\n",
    "    if (i < j) {\n",
    "      // Swap the elements at i and j.\n",
    "      int temp = array[i];\n",
    "      array[i] = array[j];\n",
    "      array[j] = temp;\n",
    "    }\n",
    "  }\n",
    "\n",
    "  // Swap the pivot element with the element at i.\n",
    "  int temp = array[i + 1];\n",
    "  array[i + 1] = array[high];\n",
    "  array[high] = temp;\n",
    "\n",
    "  // Recursively sort the two subarrays.\n",
    "  partition(array, low, i);\n",
    "  partition(array, i + 2, high);\n",
    "}\n",
    "---\n",
    "translate this to python\n",
    "\"\"\"\n",
    "\n",
    "def partition("
   ]
  },
  {
   "cell_type": "markdown",
   "metadata": {},
   "source": [
    "#### 3.2.7 quick 1-off bash script completion"
   ]
  },
  {
   "cell_type": "code",
   "execution_count": null,
   "metadata": {},
   "outputs": [],
   "source": [
    "\"\"\"\n",
    "red green blue yellow orange purple brown black white\n",
    "\n",
    "python path/to/your/script.py --color red\n",
    "python path/to/your/script.py --color green\n",
    "\n",
    "\n",
    "\"\"\""
   ]
  },
  {
   "cell_type": "markdown",
   "metadata": {},
   "source": [
    "### 3.4 Copilot Best Practices\n",
    "\n",
    "https://github.blog/2023-06-20-how-to-write-better-prompts-for-github-copilot/#3-best-practices-for-prompt-crafting-with-github-copilot\n",
    "\n",
    "#### 1. block comments to set the stage / give it a high-level goal\n",
    "- top of file\n",
    "- above a section"
   ]
  },
  {
   "cell_type": "code",
   "execution_count": null,
   "metadata": {},
   "outputs": [],
   "source": [
    "\"\"\"\n",
    "Create a basic markdown editor in Next.js with the following features:\n",
    "- Use react hooks\n",
    "- Create state for markdown with default text \"type markdown here\"\n",
    "- A text area where users can write markdown \n",
    "- Show a live preview of the markdown text as I type\n",
    "- Support for basic markdown syntax like headers, bold, italics \n",
    "- Use React markdown npm package \n",
    "- The markdown text and resulting HTML should be saved in the component's state and updated in real time \n",
    "\"\"\""
   ]
  },
  {
   "cell_type": "markdown",
   "metadata": {},
   "source": [
    "![copilot best practices](https://github.blog/wp-content/uploads/2023/06/245577032-c1ee10ef-3c24-458d-94af-8408484a1ee0.gif)"
   ]
  },
  {
   "cell_type": "markdown",
   "metadata": {},
   "source": [
    "#### 2. inline comments to prompt for specific output\n",
    "- articulate the logic / steps for it to follow\n",
    "    - often will be able to auto-complete!\n",
    "- start writing code to get more specific suggestions\n",
    "\n",
    "\n",
    "> ***Let GitHub Copilot generate the code after each step***, rather than asking it to generate a bunch of code all at once.\n"
   ]
  },
  {
   "cell_type": "markdown",
   "metadata": {},
   "source": [
    "![](https://github.blog/wp-content/uploads/2023/06/245886121-885cc0ed-97c2-4b25-be74-02e7b34711a7.gif)"
   ]
  },
  {
   "cell_type": "markdown",
   "metadata": {},
   "source": [
    "#### 3. provide examples\n",
    "- think prompting!\n",
    "- can provide examples in a comment prompt\n",
    "    - paste in a desired output dict"
   ]
  },
  {
   "cell_type": "markdown",
   "metadata": {},
   "source": [
    "#### 4. good coding practices 🤝 Copilot!\n",
    "\n",
    "- descriptive variable names\n",
    "- modularize code\n",
    "- comment your code --> prompts!\n",
    "- write docstrings (when appropriate)\n",
    "    - Copilot is great for writing documentation!\n",
    "    - but too much = hard to read code\n",
    "- write tests!\n",
    "    - Copilot makes this easier AND more essential"
   ]
  },
  {
   "cell_type": "markdown",
   "metadata": {},
   "source": [
    "#### ***warning:*** *learn to question/inspect its suggestions*\n",
    "- blindly accepting every suggestion = bugs!!!\n",
    "    - especially if you don't understand what it's doing --> much harder to find :("
   ]
  },
  {
   "cell_type": "markdown",
   "metadata": {},
   "source": []
  },
  {
   "cell_type": "markdown",
   "metadata": {},
   "source": [
    "## 4. Mamba — drop-in replacement for Conda rewritten in C++ ⚡⚡\n",
    "---\n",
    "\n",
    "#### 4.1 `conda` vs. `pip`?\n",
    "Conda\n",
    "1. creates isolated, Python-version-specific envs\n",
    "    - e.g., some old libs only work with 3.7\n",
    "2. more flexible: manage Python & other dependencies together\n",
    "    - e.g., `cudatoolkit`, `libopencv`, `ffmpeg`, ...\n",
    "3. most portable / reproducible\n",
    "    - want your project setup to be able to work on Linux/Mac/Windows etc. with different hardware\n",
    "    - essential for collaboration\n",
    "4. has `pip` integrated\n",
    "    - can install `pip` packages in a `conda` env\n",
    "    - but not vice versa\n",
    "\n",
    "#### 4.2 Mamba 🐍\n",
    "- always use `mamba` in place of `conda`\n",
    "\n",
    "https://mamba.readthedocs.io/en/latest/index.html\n",
    "\n",
    "\n",
    "#### 4.3 General tips:\n",
    "- use your environment file `environment.yaml`\n",
    "    - add new dependencies to the file as needed\n",
    "    - prefer `conda` over `pip` dependencies when possible\n",
    "\n",
    "<br>\n",
    "\n",
    "- helpful aliases:\n",
    "    ```bash\n",
    "    # conda activate\n",
    "    alias ca=\"conda activate\"\n",
    "\n",
    "    # create conda environment from file\n",
    "    alias mcf=\"mamba env create --file\"\n",
    "\n",
    "    # update conda environment from file\n",
    "    alias muf=\"mamba env update --file\"\n",
    "    ```\n",
    "    \n"
   ]
  },
  {
   "cell_type": "markdown",
   "metadata": {},
   "source": [
    "## 5. Git\n",
    "---\n",
    "\n",
    "- prefer committing too often over not often enough\n",
    "    - easier to find bugs on the git history\n",
    "- take the 2 seconds to write descriptive commit messages\n",
    "    - e.g., \"updates\" --> \"fixes bug in `foo.py`\"\n",
    "- use branches for large changes\n",
    "    - raise a Pull Request on GitHub to review all changes\n",
    "    - can squash small commits to keep it clean\n",
    "\n",
    "- `.gitignore`\n",
    "    - toptal: top google result for \"gitignore generator\"\n",
    "    - https://www.toptal.com/developers/gitignore?templates=linux,macos,python,jupyternotebooks,data\n",
    "- "
   ]
  },
  {
   "cell_type": "markdown",
   "metadata": {},
   "source": []
  }
 ],
 "metadata": {
  "kernelspec": {
   "display_name": "base",
   "language": "python",
   "name": "python3"
  },
  "language_info": {
   "codemirror_mode": {
    "name": "ipython",
    "version": 3
   },
   "file_extension": ".py",
   "mimetype": "text/x-python",
   "name": "python",
   "nbconvert_exporter": "python",
   "pygments_lexer": "ipython3",
   "version": "3.10.12"
  },
  "orig_nbformat": 4
 },
 "nbformat": 4,
 "nbformat_minor": 2
}
