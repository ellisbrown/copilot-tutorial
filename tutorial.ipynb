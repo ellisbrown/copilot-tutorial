{
 "cells": [
  {
   "cell_type": "markdown",
   "metadata": {},
   "source": [
    "# VSCode, Copilot, Jupyter, Git, Mamba\n",
    "### NYU[x] Research Tooling Meeting\n",
    "\n",
    "Ellis Brown\n",
    "\n",
    "10/09/2023\n",
    "\n",
    "\n",
    "\n",
    "<br><br>"
   ]
  },
  {
   "cell_type": "markdown",
   "metadata": {},
   "source": [
    "## 0. Why this matters?\n",
    "---\n",
    "Good tooling:\n",
    "1. Accelerates experimentation\n",
    "    - make more progress, faster\n",
    "    - more robust code\n",
    "2. Enables reproducibility\n",
    "3. Facilitates collaboration\n",
    "\n",
    "<br><br>"
   ]
  },
  {
   "cell_type": "markdown",
   "metadata": {},
   "source": [
    "## 1. VSCode\n",
    "---\n",
    "\n",
    "Why I like it:\n",
    "- Lightweight and fast\n",
    "- Extensions / Plugins -> scales to power-use\n",
    "  - Jupyter\n",
    "  - Copilot\n",
    "  - Git\n",
    "  - Remote SSH\n",
    "- Debugging\n",
    "- Wide adoption / community / support\n",
    "\n",
    "<br><br>"
   ]
  },
  {
   "cell_type": "markdown",
   "metadata": {},
   "source": [
    "## 2. Jupyter\n",
    "---\n",
    "- interactive notebook + code execution\n",
    "- great for experimentation, data exploration, and visualization\n",
    "- lightweight way to test/develop your library code, interactively\n",
    "\n",
    "<br>\n",
    "\n",
    "### Jupyter + VSCode\n",
    "- all of the features of the VSCode editor, ***native*** to the notebook experience 🔥\n",
    "    - Copilot!\n",
    "- compute clusters / HPC / Slurm:\n",
    "    - can start a Jupyter server (e.g. in `tmux` session) <br>\n",
    "      & connect to it\n",
    "\n",
    "<br>\n",
    "\n",
    "### Tip: extensions / \"magic\"\n",
    "- autoreload: reloads imported modules before executing code\n",
    "    - my default 1st cell in ~ every notebook:<br>\n",
    "        ```python\n",
    "        %load_ext autoreload\n",
    "        %autoreload 2\n",
    "        ```\n",
    "- VSCode Jupyter plots matplotlib inline automatically :)\n",
    "\n",
    "<br>\n",
    "\n",
    "### Tip: naming notebooks\n",
    "- organizing your notebooks by date is a great way to keep track of your work / progress\n",
    "    - you will thank yourself later!\n",
    "- e.g., I nest my notebooks in a `notebooks/` dir with the following naming convention:\n",
    "    - `notebooks/YYYY-MM-DD-<name>.ipynb`\n",
    "\n",
    "<br><br>"
   ]
  },
  {
   "cell_type": "markdown",
   "metadata": {},
   "source": [
    "## 3. GitHub Copilot\n",
    "---\n",
    "- GPT-3 powered Code Autocompletion (on steroids)\n",
    "- *potentially best application of current generations of LLMs?*\n",
    "\n",
    "Oct 2021 beta — changed the way I approach coding\n",
    "\n",
    "<br>\n",
    "\n",
    "### 3.1 Code As \"Context\"\n",
    "ChatGPT as a lens to understand Copilot\n",
    "- context = prompt + history (in ChatGPT parlance)\n",
    "- the better the context, the better the suggestions\n",
    "\n",
    "***Copilot Context:*** code + comments\n",
    "1. in ***current file***\n",
    "    - especially current/previous line\n",
    "    - \"Fill-In-the-Middle\" paradigm\n",
    "        - code before & after the cursor\n",
    "2. from ***neighboring tabs***\n",
    "    - Copilot attends significantly more to code if it is open in a tab\n",
    "3. from ***other files in the repo***, (but much less likely to be added to the context)\n",
    "    - other files in the repo are scanned too, but much less likely to be added to the context\n",
    "    \n",
    "<br>\n",
    "\n",
    "https://github.blog/2023-05-17-how-github-copilot-is-getting-better-at-understanding-your-code/\n",
    "\n",
    "<br>"
   ]
  },
  {
   "cell_type": "markdown",
   "metadata": {},
   "source": [
    "### 3.2 Examples / Use Cases\n",
    "\n",
    "Shortcuts:\n",
    "1. `tab` to accept suggestion\n",
    "2. `opt+[`, `opt+]` to cycle through suggestions\n"
   ]
  },
  {
   "cell_type": "markdown",
   "metadata": {},
   "source": [
    "#### 3.2.1 generic code completion"
   ]
  },
  {
   "cell_type": "code",
   "execution_count": 1,
   "metadata": {},
   "outputs": [],
   "source": [
    "def sqrt(x):\n",
    "    \"\"\"\n",
    "    Compute square roots using the method of Heron of Alexandria.\n",
    "\n",
    "    Args:\n",
    "        x: The number for which the square root is to be computed.\n",
    "    \"\"\"\n",
    "    if x < 0:\n",
    "        raise ValueError(\n",
    "            \"Cannot compute square root of \"\n",
    "            f\"negative number {x}\"\n",
    "        )\n",
    "    guess = x\n",
    "    i = 0\n",
    "    while guess * guess != x and i < 20:\n",
    "        guess = (guess + x / guess) / 2.0\n",
    "        i += 1\n",
    "    return guess"
   ]
  },
  {
   "cell_type": "markdown",
   "metadata": {},
   "source": [
    "#### 3.2.2 documentation\n",
    "> add documentation to the `sqrt` function\n"
   ]
  },
  {
   "cell_type": "code",
   "execution_count": 2,
   "metadata": {},
   "outputs": [],
   "source": [
    "def sqrt(x):\n",
    "    \"\"\"\n",
    "    Compute square roots using the method of Heron of Alexandria.\n",
    "\n",
    "    Args:\n",
    "        x: The number for which the square root is to be computed.\n",
    "\n",
    "    Returns:\n",
    "        The square root of x.\n",
    "    \"\"\"\n",
    "    if x < 0:\n",
    "        raise ValueError(\n",
    "            \"Cannot compute square root of \"\n",
    "            f\"negative number {x}\"\n",
    "        )\n",
    "    guess = x\n",
    "    i = 0\n",
    "    while guess * guess != x and i < 20:\n",
    "        guess = (guess + x / guess) / 2.0\n",
    "        i += 1\n",
    "    return guess"
   ]
  },
  {
   "cell_type": "markdown",
   "metadata": {},
   "source": [
    "#### 3.2.3 test generation"
   ]
  },
  {
   "cell_type": "code",
   "execution_count": 3,
   "metadata": {},
   "outputs": [],
   "source": [
    "# create a test for the sqrt function\n",
    "def test_sqrt():\n",
    "    assert sqrt(4) == 2\n",
    "    assert sqrt(9) == 3\n",
    "    assert sqrt(16) == 4\n",
    "\n",
    "# run the test for the sqrt function\n",
    "test_sqrt()"
   ]
  },
  {
   "cell_type": "markdown",
   "metadata": {},
   "source": [
    "#### 3.2.4 inline Q/A with the LLM\n",
    "> e.g., look up the args for the autoreload magic function"
   ]
  },
  {
   "cell_type": "code",
   "execution_count": 4,
   "metadata": {},
   "outputs": [
    {
     "name": "stderr",
     "output_type": "stream",
     "text": [
      "UsageError: unrecognized arguments: # Reload all local modules every time before executing the Python code typed.\n"
     ]
    }
   ],
   "source": [
    "%load_ext autoreload\n",
    "%autoreload 2 # Reload all local modules every time before executing the Python code typed.\n",
    "# what does the 2 parameter mean?\n",
    "# ans: 2 means always reload all modules (except those excluded by %aimport) before executing the Python code typed.\n",
    "\n",
    "# list options\n",
    "# 1. %autoreload 0 -> disable automatic reloading\n",
    "# 2. %autoreload 1 -> Reload all modules imported with %aimport every time before executing the Python code typed.\n",
    "# 3. %autoreload 2 -> Reload all modules (except those excluded by %aimport) every time before executing the Python code typed."
   ]
  },
  {
   "cell_type": "markdown",
   "metadata": {},
   "source": [
    "#### 3.2.5 data manipulation / visualization\n",
    "> e.g., plot the distribution of the `iris` dataset"
   ]
  },
  {
   "cell_type": "code",
   "execution_count": 5,
   "metadata": {},
   "outputs": [
    {
     "data": {
      "image/png": "[encoded data removed]",
      "text/plain": [
       "<Figure size 800x600 with 1 Axes>"
      ]
     },
     "metadata": {},
     "output_type": "display_data"
    }
   ],
   "source": [
    "\"\"\"\n",
    "Load the iris dataset, and plot the first two features in a scatter plot.\n",
    "\"\"\"\n",
    "from sklearn.datasets import load_iris\n",
    "import matplotlib.pyplot as plt\n",
    "\n",
    "iris = load_iris()\n",
    "X = iris.data\n",
    "y = iris.target\n",
    "\n",
    "# make the plot smaller\n",
    "plt.figure(figsize=(8, 6))\n",
    "\n",
    "plt.scatter(X[:, 0], X[:, 1], c=y, cmap=plt.cm.Paired)\n",
    "plt.xlabel(iris.feature_names[0])\n",
    "plt.ylabel(iris.feature_names[1])\n",
    "\n",
    "# add a title to the plot\n",
    "plt.title('Iris Dataset')\n",
    "\n",
    "# save the plot as a PDF\n",
    "plt.savefig('iris-data.pdf')\n"
   ]
  },
  {
   "cell_type": "markdown",
   "metadata": {},
   "source": [
    "#### 3.2.6 complex APIs\n",
    "> e.g., regex"
   ]
  },
  {
   "cell_type": "code",
   "execution_count": 6,
   "metadata": {},
   "outputs": [
    {
     "name": "stdout",
     "output_type": "stream",
     "text": [
      "['(I want to match this)']\n",
      "['(match)']\n",
      "['(match)', '(this)', '(this)']\n",
      "[]\n",
      "[]\n",
      "[]\n",
      "Success!\n"
     ]
    }
   ],
   "source": [
    "# write a regex to match all words surrounded by parentheses\n",
    "pattern1 = r\"\\(.*?\\)\"\n",
    "\n",
    "import re\n",
    "\n",
    "# test code\n",
    "print(re.findall(pattern1, '(I want to match this)'))\n",
    "print(re.findall(pattern1, 'I want to (match) this'))\n",
    "print(re.findall(pattern1, 'I want to (match) this and (this) and (this)'))\n",
    "\n",
    "# (round 2) add examples where there are open / close parens w/ no matches\n",
    "print(re.findall(pattern1, 'I want to (match this')) # no match, left paren not closed\n",
    "print(re.findall(pattern1, 'I want to match this)')) # no match, right paren not opened\n",
    "print(re.findall(pattern1, 'I want to match this')) # no match, no parens\n",
    "\n",
    "# convert the above into a real test case\n",
    "def test_parentheses():\n",
    "    assert re.findall(pattern1, '(I want to match this)') == ['(I want to match this)']\n",
    "    assert re.findall(pattern1, 'I want to (match) this') == ['(match)']\n",
    "    assert re.findall(pattern1, 'I want to (match) this and (this) and (this)') == ['(match)', '(this)', '(this)']\n",
    "    # (round 2 tests)\n",
    "    assert re.findall(pattern1, 'I want to (match this') == []\n",
    "    assert re.findall(pattern1, 'I want to match this)') == []\n",
    "    assert re.findall(pattern1, 'I want to match this') == []\n",
    "    print('Success!')\n",
    "\n",
    "# run the test\n",
    "test_parentheses()"
   ]
  },
  {
   "cell_type": "markdown",
   "metadata": {},
   "source": [
    "#### 3.2.7 quick 1-off bash script completion\n",
    "> note: chatgpt is also great for this!"
   ]
  },
  {
   "cell_type": "code",
   "execution_count": 7,
   "metadata": {},
   "outputs": [
    {
     "data": {
      "text/plain": [
       "'\\ncolors: red green blue yellow orange purple brown black white\\nanimals: dog cat horse pig cow sheep goat chicken\\n\\n\\npython path/to/your/script.py --color red --animal dog\\npython path/to/your/script.py --color green --animal cat\\npython path/to/your/script.py --color blue --animal horse\\npython path/to/your/script.py --color yellow --animal pig\\npython path/to/your/script.py --color orange --animal cow\\npython path/to/your/script.py --color purple --animal sheep\\npython path/to/your/script.py --color brown --animal goat\\n\\n'"
      ]
     },
     "execution_count": 7,
     "metadata": {},
     "output_type": "execute_result"
    }
   ],
   "source": [
    "\"\"\"\n",
    "colors: red green blue yellow orange purple brown black white\n",
    "animals: dog cat horse pig cow sheep goat chicken\n",
    "\n",
    "\n",
    "python path/to/your/script.py --color red --animal dog\n",
    "python path/to/your/script.py --color green --animal cat\n",
    "python path/to/your/script.py --color blue --animal horse\n",
    "python path/to/your/script.py --color yellow --animal pig\n",
    "python path/to/your/script.py --color orange --animal cow\n",
    "python path/to/your/script.py --color purple --animal sheep\n",
    "python path/to/your/script.py --color brown --animal goat\n",
    "\n",
    "\"\"\""
   ]
  },
  {
   "cell_type": "markdown",
   "metadata": {},
   "source": [
    "### 3.4 Copilot Best Practices\n",
    "> stolen from here:\n",
    "> https://github.blog/2023-06-20-how-to-write-better-prompts-for-github-copilot/#3-best-practices-for-prompt-crafting-with-github-copilot\n",
    "\n",
    "#### 3.4.1. block comments to set the stage / give it a high-level goal\n",
    "- top of file\n",
    "- above a section"
   ]
  },
  {
   "cell_type": "code",
   "execution_count": 8,
   "metadata": {},
   "outputs": [
    {
     "data": {
      "text/plain": [
       "'\\nCreate a basic markdown editor in Next.js with the following features:\\n- Use react hooks\\n- Create state for markdown with default text \"type markdown here\"\\n- A text area where users can write markdown \\n- Show a live preview of the markdown text as I type\\n- Support for basic markdown syntax like headers, bold, italics \\n- Use React markdown npm package \\n- The markdown text and resulting HTML should be saved in the component\\'s state and updated in real time \\n'"
      ]
     },
     "execution_count": 8,
     "metadata": {},
     "output_type": "execute_result"
    }
   ],
   "source": [
    "\"\"\"\n",
    "Create a basic markdown editor in Next.js with the following features:\n",
    "- Use react hooks\n",
    "- Create state for markdown with default text \"type markdown here\"\n",
    "- A text area where users can write markdown \n",
    "- Show a live preview of the markdown text as I type\n",
    "- Support for basic markdown syntax like headers, bold, italics \n",
    "- Use React markdown npm package \n",
    "- The markdown text and resulting HTML should be saved in the component's state and updated in real time \n",
    "\"\"\""
   ]
  },
  {
   "cell_type": "markdown",
   "metadata": {},
   "source": [
    "![copilot best practices](https://github.blog/wp-content/uploads/2023/06/245577032-c1ee10ef-3c24-458d-94af-8408484a1ee0.gif)"
   ]
  },
  {
   "cell_type": "markdown",
   "metadata": {},
   "source": [
    "#### 3.4.2. inline comments to prompt for specific output\n",
    "- articulate the logic / steps for it to follow\n",
    "    - often will be able to auto-complete!\n",
    "- start writing code to get more specific suggestions\n",
    "\n",
    "\n",
    "> ***Let GitHub Copilot generate the code after each step***, rather than asking it to generate a bunch of code all at once.\n"
   ]
  },
  {
   "cell_type": "markdown",
   "metadata": {},
   "source": [
    "<!-- display this gif: https://github.blog/wp-content/uploads/2023/06/245886121-885cc0ed-97c2-4b25-be74-02e7b34711a7.gif -->\n",
    "<!-- ![](https://github.blog/wp-content/uploads/2023/06/245886121-885cc0ed-97c2-4b25-be74-02e7b34711a7.gif) -->\n",
    "<!-- render the image using an <img> tag with a max width of 600 -->\n",
    "\n",
    "\n",
    "<img src=\"https://github.blog/wp-content/uploads/2023/06/245886121-885cc0ed-97c2-4b25-be74-02e7b34711a7.gif\" alt=\"copilot best practices\" width=\"600\"/>\n",
    "\n",
    "> n.b., look into this cell's comments to see examples of me prompting Copilot to display the above gif :0"
   ]
  },
  {
   "cell_type": "markdown",
   "metadata": {},
   "source": [
    "#### 3.4.3. provide examples\n",
    "- think prompting!\n",
    "- can provide examples in a comment prompt\n",
    "    - paste in a desired output dict"
   ]
  },
  {
   "cell_type": "code",
   "execution_count": 9,
   "metadata": {},
   "outputs": [
    {
     "name": "stdout",
     "output_type": "stream",
     "text": [
      "['John', 'Jane', 'Bob']\n",
      "Success!\n"
     ]
    }
   ],
   "source": [
    "# flatmap the data and return a list of names\n",
    "data = [\n",
    "    [\n",
    "        { 'name': 'John', 'age': 25 },\n",
    "        { 'name': 'Jane', 'age': 30 }\n",
    "    ],\n",
    "    [\n",
    "        { 'name': 'Bob', 'age': 40 }\n",
    "    ]\n",
    "]\n",
    "# expected output: 'John', 'Jane', 'Bob'\n",
    "\n",
    "def get_names(data):\n",
    "    return [person['name'] for group in data for person in group]\n",
    "\n",
    "# test code\n",
    "print(get_names(data))\n",
    "\n",
    "# write a test case\n",
    "def test_get_first_names():\n",
    "    assert get_names(data) == ['John', 'Jane', 'Bob']\n",
    "    print('Success!')\n",
    "\n",
    "# run the test\n",
    "test_get_first_names()"
   ]
  },
  {
   "cell_type": "markdown",
   "metadata": {},
   "source": [
    "### 3.5. good coding practices 🤝 Copilot!\n",
    "\n",
    "- descriptive variable names\n",
    "- modularize code\n",
    "- comment your code --> prompts!\n",
    "- write docstrings (when appropriate)\n",
    "    - Copilot is great for writing documentation!\n",
    "    - but too much = hard to read code\n",
    "- write **tests!**\n",
    "    - Copilot makes this easier AND more essential"
   ]
  },
  {
   "cell_type": "markdown",
   "metadata": {},
   "source": [
    "#### ***warning:*** *learn to question/inspect its suggestions*\n",
    "- blindly accepting every suggestion = bugs!!!\n",
    "    - especially if you don't understand what it's doing --> much harder to find :("
   ]
  },
  {
   "cell_type": "markdown",
   "metadata": {},
   "source": []
  },
  {
   "cell_type": "markdown",
   "metadata": {},
   "source": [
    "## 4. Mamba — drop-in replacement for Conda rewritten in C++ ⚡⚡\n",
    "---\n",
    "\n",
    "#### 4.1 `conda` vs. `pip`?\n",
    "Conda\n",
    "1. creates isolated, Python-version-specific envs\n",
    "    - e.g., some old libs only work with 3.7\n",
    "2. more flexible: manage Python & other dependencies together\n",
    "    - e.g., `cudatoolkit`, `libopencv`, `ffmpeg`, ...\n",
    "3. most portable / reproducible\n",
    "    - want your project setup to be able to work on Linux/Mac/Windows etc. with different hardware\n",
    "    - essential for collaboration\n",
    "4. has `pip` integrated\n",
    "    - can install `pip` packages in a `conda` env\n",
    "    - but not vice versa\n",
    "\n",
    "#### 4.2 Mamba 🐍\n",
    "- always use `mamba` in place of `conda`\n",
    "\n",
    "https://mamba.readthedocs.io/en/latest/index.html\n",
    "\n",
    "\n",
    "#### 4.3 General tips:\n",
    "- use your environment file `environment.yaml`\n",
    "    - add new dependencies to the file as needed\n",
    "    - prefer `conda` over `pip` dependencies when possible\n",
    "\n",
    "<br>\n",
    "\n",
    "- helpful aliases:\n",
    "    ```bash\n",
    "    # conda activate\n",
    "    alias ca=\"conda activate\"\n",
    "\n",
    "    # create conda environment from file\n",
    "    alias mcf=\"mamba env create --file\"\n",
    "\n",
    "    # update conda environment from file\n",
    "    alias muf=\"mamba env update --file\"\n",
    "    ```\n",
    "    \n",
    "<br><br>"
   ]
  },
  {
   "cell_type": "markdown",
   "metadata": {},
   "source": [
    "## 5. Git\n",
    "---\n",
    "\n",
    "> ***make life easier for your future self***\n",
    "\n",
    "- prefer committing *too often* over not *often enough*\n",
    "    - horror-stories: losing days/weeks of work\n",
    "    - easier to find bugs on the git history\n",
    "- take the 2 seconds to write descriptive commit messages\n",
    "    - e.g., \"updates\" --> \"fixes bug in `foo.py`\"\n",
    "- use branches for large changes\n",
    "    - raise a Pull Request on GitHub to review all changes\n",
    "    - can squash small commits to keep it clean\n",
    "\n",
    "<br>\n",
    "\n",
    "- `.gitignore`\n",
    "    - toptal: top google result for \"gitignore generator\"\n",
    "    - https://www.toptal.com/developers/gitignore?templates=linux,macos,python,jupyternotebooks,data\n",
    "\n",
    "<br>\n",
    "\n",
    "- VSCode Git plugin makes it easy!\n",
    "    - can stage/unstage lines of code:\n",
    "        - select lines of code\n",
    "        - right click -> \"Stage Selected Ranges\"\n",
    "        - right click -> \"Unstage Selected Ranges\"\n",
    "    - useful, easy to forget git functions\n",
    "        - undo last commit\n",
    "        - commit staged (ammend) --> adds current staged changes to previous commit"
   ]
  },
  {
   "cell_type": "markdown",
   "metadata": {},
   "source": []
  }
 ],
 "metadata": {
  "kernelspec": {
   "display_name": "base",
   "language": "python",
   "name": "python3"
  },
  "language_info": {
   "codemirror_mode": {
    "name": "ipython",
    "version": 3
   },
   "file_extension": ".py",
   "mimetype": "text/x-python",
   "name": "python",
   "nbconvert_exporter": "python",
   "pygments_lexer": "ipython3",
   "version": "3.10.12"
  },
  "orig_nbformat": 4
 },
 "nbformat": 4,
 "nbformat_minor": 2
}
